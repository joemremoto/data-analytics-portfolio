{
 "cells": [
  {
   "cell_type": "markdown",
   "id": "fe0ea788-58dd-459e-8976-fafdb5c05c6d",
   "metadata": {},
   "source": [
    "**THE DATA:**\n",
    "<br>\n",
    "<br>\n",
    "Every year, American high school students take SATs, which are standardized tests intended to measure literacy, numeracy, and writing skills. There are three sections - reading, math, and writing, each with a **maximum score of 800 points**. These tests are extremely important for students and colleges, as they play a pivotal role in the admissions process.\n",
    "\n",
    "Analyzing the performance of schools is important for a variety of stakeholders, including policy and education professionals, researchers, government, and even parents considering which school their children should attend. \n",
    "\n",
    "A dataset called `schools.csv`has been provided"
   ]
  },
  {
   "cell_type": "code",
   "execution_count": 32,
   "id": "d0eb4f16-5a99-460d-a5ba-706b7ef0bbe7",
   "metadata": {
    "executionCancelledAt": null,
    "executionTime": 35,
    "id": "bA5ajAmk7XH6",
    "lastExecutedAt": 1713069930701,
    "lastExecutedByKernel": "6237271b-b338-4747-afc8-95ecef7f8809",
    "lastScheduledRunId": null,
    "lastSuccessfullyExecutedCode": "# Re-run this cell \nimport pandas as pd\n\n# Read in the data\nschools = pd.read_csv(\"schools.csv\")\n\n# Preview the data\nprint(schools.head())\n\n# NYC Schools with the best math results\n# Filter the observations with at least 80% of the maximum possible score for math\nbest_math = schools[schools[\"average_math\"] >= 640]\nbest_math_schools = best_math[[\"school_name\", \"average_math\"]].sort_values(\"average_math\", ascending = False)\nprint(best_math_schools)",
    "outputsMetadata": {
     "0": {
      "height": 416,
      "type": "stream"
     }
    }
   },
   "outputs": [
    {
     "name": "stdout",
     "output_type": "stream",
     "text": [
      "                                         school_name  ... percent_tested\n",
      "0  New Explorations into Science, Technology and ...  ...            NaN\n",
      "1                               Essex Street Academy  ...           78.9\n",
      "2                       Lower Manhattan Arts Academy  ...           65.1\n",
      "3    High School for Dual Language and Asian Studies  ...           95.9\n",
      "4      Henry Street School for International Studies  ...           59.7\n",
      "\n",
      "[5 rows x 7 columns]\n",
      "                                           school_name  average_math\n",
      "88                              Stuyvesant High School           754\n",
      "170                       Bronx High School of Science           714\n",
      "93                 Staten Island Technical High School           711\n",
      "365  Queens High School for the Sciences at York Co...           701\n",
      "68   High School for Mathematics, Science, and Engi...           683\n",
      "280                     Brooklyn Technical High School           682\n",
      "333                        Townsend Harris High School           680\n",
      "174  High School of American Studies at Lehman College           669\n",
      "0    New Explorations into Science, Technology and ...           657\n",
      "45                       Eleanor Roosevelt High School           641\n"
     ]
    }
   ],
   "source": [
    "# Re-run this cell \n",
    "import pandas as pd\n",
    "\n",
    "# Read in the data\n",
    "schools = pd.read_csv(\"schools.csv\")\n",
    "\n",
    "# Preview the data\n",
    "print(schools.head())\n",
    "\n",
    "# NYC Schools with the best math results\n",
    "# Filter the observations with at least 80% of the maximum possible score for math\n",
    "best_math = schools[schools[\"average_math\"] >= 640]\n",
    "best_math_schools = best_math[[\"school_name\", \"average_math\"]].sort_values(\"average_math\", ascending = False)\n",
    "print(best_math_schools)"
   ]
  },
  {
   "cell_type": "code",
   "execution_count": 33,
   "id": "314a9b33-8fed-4b50-9968-35c0342df585",
   "metadata": {
    "executionCancelledAt": null,
    "executionTime": 50,
    "lastExecutedAt": 1713069930751,
    "lastExecutedByKernel": "6237271b-b338-4747-afc8-95ecef7f8809",
    "lastScheduledRunId": null,
    "lastSuccessfullyExecutedCode": "# The top 10 performing schools based on the combined SAT scores\nprint(schools.columns)\n# adding a new column to schools\nschools[\"total_SAT\"] = schools[\"average_math\"] + schools[\"average_reading\"] + schools[\"average_writing\"]\ntotal_SAT_sorted = schools.sort_values(\"total_SAT\", ascending = False)\ntop_10_schools = total_SAT_sorted.iloc[0:10, [0, -1]]\nprint(top_10_schools)",
    "outputsMetadata": {
     "0": {
      "height": 311,
      "type": "stream"
     }
    }
   },
   "outputs": [
    {
     "name": "stdout",
     "output_type": "stream",
     "text": [
      "Index(['school_name', 'borough', 'building_code', 'average_math',\n",
      "       'average_reading', 'average_writing', 'percent_tested'],\n",
      "      dtype='object')\n",
      "                                           school_name  total_SAT\n",
      "88                              Stuyvesant High School       2144\n",
      "170                       Bronx High School of Science       2041\n",
      "93                 Staten Island Technical High School       2041\n",
      "174  High School of American Studies at Lehman College       2013\n",
      "333                        Townsend Harris High School       1981\n",
      "365  Queens High School for the Sciences at York Co...       1947\n",
      "5                       Bard High School Early College       1914\n",
      "280                     Brooklyn Technical High School       1896\n",
      "45                       Eleanor Roosevelt High School       1889\n",
      "68   High School for Mathematics, Science, and Engi...       1889\n"
     ]
    }
   ],
   "source": [
    "# The top 10 performing schools based on the combined SAT scores\n",
    "print(schools.columns)\n",
    "# adding a new column to schools\n",
    "schools[\"total_SAT\"] = schools[\"average_math\"] + schools[\"average_reading\"] + schools[\"average_writing\"]\n",
    "total_SAT_sorted = schools.sort_values(\"total_SAT\", ascending = False)\n",
    "top_10_schools = total_SAT_sorted.iloc[0:10, [0, -1]]\n",
    "print(top_10_schools)"
   ]
  },
  {
   "cell_type": "code",
   "execution_count": 34,
   "id": "1a4e33d5-2148-4c2b-9744-8564e1db5944",
   "metadata": {
    "executionCancelledAt": null,
    "executionTime": 55,
    "lastExecutedAt": 1713069930806,
    "lastExecutedByKernel": "6237271b-b338-4747-afc8-95ecef7f8809",
    "lastScheduledRunId": null,
    "lastSuccessfullyExecutedCode": "# Borough with the largest standard deviation in the combined SAT score\nboroughs = schools.groupby(\"borough\")[\"total_SAT\"].agg([\"count\", \"mean\", \"std\"]).round(2)\nboroughs = boroughs.rename(columns = {\"count\":\"num_schools\", \"mean\":\"average_SAT\", \"std\":\"std_SAT\"})\nlargest_std_dev = boroughs[boroughs[\"std_SAT\"] ==boroughs[\"std_SAT\"].max()]\nlargest_std_dev.reset_index(inplace = True)",
    "outputsMetadata": {
     "0": {
      "height": 59,
      "type": "stream"
     }
    }
   },
   "outputs": [],
   "source": [
    "# Borough with the largest standard deviation in the combined SAT score\n",
    "boroughs = schools.groupby(\"borough\")[\"total_SAT\"].agg([\"count\", \"mean\", \"std\"]).round(2)\n",
    "boroughs = boroughs.rename(columns = {\"count\":\"num_schools\", \"mean\":\"average_SAT\", \"std\":\"std_SAT\"})\n",
    "largest_std_dev = boroughs[boroughs[\"std_SAT\"] ==boroughs[\"std_SAT\"].max()]\n",
    "largest_std_dev.reset_index(inplace = True)"
   ]
  }
 ],
 "metadata": {
  "editor": "DataCamp Workspace",
  "kernelspec": {
   "display_name": "Python 3 (ipykernel)",
   "language": "python",
   "name": "python3"
  },
  "language_info": {
   "codemirror_mode": {
    "name": "ipython",
    "version": 3
   },
   "file_extension": ".py",
   "mimetype": "text/x-python",
   "name": "python",
   "nbconvert_exporter": "python",
   "pygments_lexer": "ipython3",
   "version": "3.11.7"
  }
 },
 "nbformat": 4,
 "nbformat_minor": 5
}
